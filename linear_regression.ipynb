{
 "cells": [
  {
   "cell_type": "markdown",
   "id": "8ef733f1-ad6d-4ed9-9831-9db7ef332ef5",
   "metadata": {},
   "source": [
    "### Simple Linear Regression - Derivation and Implementation\n",
    "\n",
    "This notebook explains **Simple Linear Regression** through detailed derivation and a Python implementation from scratch.\n",
    "\n",
    "---\n",
    "\n",
    "## Mathematical Derivation\n",
    "\n",
    "We aim to fit a line of the form:\n",
    "\n",
    "$$\n",
    "\\hat{y} = \\beta_0 + \\beta_1 x\n",
    "$$\n",
    "\n",
    "Minimize the **sum of squared errors (SSE)**:\n",
    "\n",
    "$$\n",
    "J(\\beta_0, \\beta_1) = \\sum_{i=1}^{n} (y_i - \\beta_0 - \\beta_1 x_i)^2\n",
    "$$\n",
    "\n",
    "### Step 1: Partial Derivative with respect to  Slope(bela_0)\n",
    "\n",
    "$$\n",
    "\\frac{\\partial J}{\\partial \\beta_0} = -2 \\sum_{i=1}^{n} (y_i - \\beta_0 - \\beta_1 x_i)\n",
    "$$\n",
    "\n",
    "Set derivative to zero:\n",
    "\n",
    "$$\n",
    "\\sum_{i=1}^{n} (y_i - \\beta_0 - \\beta_1 x_i) = 0\n",
    "$$\n",
    "\n",
    "Distribute summation:\n",
    "\n",
    "$$\n",
    "\\sum y_i - n\\beta_0 - \\beta_1 \\sum x_i = 0\n",
    "$$\n",
    "\n",
    "Solve for \\( \\beta_0 \\):\n",
    "\n",
    "$$\n",
    "\\beta_0 = \\bar{y} - \\beta_1 \\bar{x}\n",
    "$$\n",
    "\n",
    "---\n",
    "\n",
    "### Step 2: Partial Derivative with respect to Intercept (beta_1)\n",
    "\n",
    "$$\n",
    "\\frac{\\partial J}{\\partial \\beta_1} = -2 \\sum x_i (y_i - \\beta_0 - \\beta_1 x_i)\n",
    "$$\n",
    "\n",
    "Set derivative to zero and simplify:\n",
    "\n",
    "$$\n",
    "\\beta_1 = \\frac{\\sum (x_i - \\bar{x})(y_i - \\bar{y})}{\\sum (x_i - \\bar{x})^2}\n",
    "$$\n",
    "\n",
    "---\n",
    "\n",
    "### Final Formulae\n",
    "\n",
    "- **Slope**:\n",
    "\n",
    "$$\n",
    "\\beta_1 = \\frac{\\sum (x_i - \\bar{x})(y_i - \\bar{y})}{\\sum (x_i - \\bar{x})^2}\n",
    "$$\n",
    "\n",
    "- **Intercept**:\n",
    "\n",
    "$$\n",
    "\\beta_0 = \\bar{y} - \\beta_1 \\bar{x}\n",
    "$$\n",
    "\n",
    "---"
   ]
  },
  {
   "cell_type": "markdown",
   "id": "b41004c3-9888-4d61-9517-f4e1ab5011eb",
   "metadata": {},
   "source": [
    "## Python Implementation from Scratch"
   ]
  },
  {
   "cell_type": "code",
   "execution_count": 8,
   "id": "757f8642-a1d2-4476-a3a4-df32c5b841a9",
   "metadata": {},
   "outputs": [],
   "source": [
    "import numpy as np\n",
    "import matplotlib.pyplot as plt\n",
    "\n",
    "class LinearRegression:\n",
    "    def __init__(self):\n",
    "        self.slope = None\n",
    "        self.intercept = None\n",
    "\n",
    "    def fit(self, X, y):\n",
    "        n = len(X)\n",
    "        x_mean = np.mean(X)\n",
    "        y_mean = np.mean(y)\n",
    "        numerator = 0\n",
    "        denominator = 0\n",
    "        for i in range(n):\n",
    "            numerator += (X[i] - x_mean) * (y[i] - y_mean)\n",
    "            denominator += (X[i] - x_mean) ** 2\n",
    "        self.slope = numerator / denominator\n",
    "        self.intercept = y_mean - self.slope * x_mean\n",
    "\n",
    "    def predict(self, X):\n",
    "        y_pred = []\n",
    "        for x in X:\n",
    "            y_pred.append(self.slope * x + self.intercept)\n",
    "        return y_pred"
   ]
  },
  {
   "cell_type": "code",
   "execution_count": 9,
   "id": "173436d7-172b-4556-ab36-c21977759630",
   "metadata": {},
   "outputs": [
    {
     "name": "stdout",
     "output_type": "stream",
     "text": [
      "Slope: 0.6\n",
      "Intercept: 2.2\n",
      "Predictions: [2.8000000000000003, 3.4000000000000004, 4.0, 4.6, 5.2]\n"
     ]
    }
   ],
   "source": [
    "X = np.array([1, 2, 3, 4, 5])\n",
    "y = np.array([2, 4, 5, 4, 5])\n",
    "\n",
    "model = LinearRegression()\n",
    "model.fit(X, y)\n",
    "predictions = model.predict(X)\n",
    "\n",
    "print(\"Slope:\", model.slope)\n",
    "print(\"Intercept:\", model.intercept)\n",
    "print(\"Predictions:\", predictions)"
   ]
  },
  {
   "cell_type": "code",
   "execution_count": 11,
   "id": "dc8e3ec8-d504-41f1-816e-6049198d0533",
   "metadata": {},
   "outputs": [
    {
     "data": {
      "image/png": "[encoded data removed]",
      "text/plain": [
       "<Figure size 640x480 with 1 Axes>"
      ]
     },
     "metadata": {},
     "output_type": "display_data"
    }
   ],
   "source": [
    "# Plotting the data and regression line\n",
    "plt.scatter(X, y, color='blue', label='Data')\n",
    "plt.plot(X, predictions, color='red', label='Regression Line')\n",
    "plt.xlabel('X')\n",
    "plt.ylabel('y')\n",
    "plt.legend()\n",
    "plt.title('Simple Linear Regression Fit')\n",
    "plt.grid(True)\n",
    "plt.show()"
   ]
  },
  {
   "cell_type": "markdown",
   "id": "e44c063d-2837-4846-ba1e-b46816501930",
   "metadata": {},
   "source": [
    "# Vectorized"
   ]
  },
  {
   "cell_type": "markdown",
   "id": "1a3ce1cf-8939-45c6-90bd-65ab35385726",
   "metadata": {},
   "source": [
    "## Derivation\n",
    "\n",
    "\n",
    "We want to find \\( \\boldsymbol{\\theta} \\) such that:\n",
    "\n",
    "$$\n",
    "\\hat{\\mathbf{y}} = \\mathbf{X} \\boldsymbol{\\theta}\n",
    "$$\n",
    "\n",
    "Where:\n",
    "\n",
    "- \\( \\mathbf{X} \\in \\mathbb{R}^{m \\times n} \\): Input matrix (with bias column included)\n",
    "- \\( \\boldsymbol{\\theta} \\in \\mathbb{R}^{n \\times 1} \\): Parameters\n",
    "- \\( \\mathbf{y} \\in \\mathbb{R}^{m \\times 1} \\): Target/output values\n",
    "\n",
    "---\n",
    "\n",
    "### Objective:\n",
    "\n",
    "Minimize the sum of squared errors:\n",
    "\n",
    "\n",
    "$$\n",
    "J(\\boldsymbol{\\theta}) = \\| \\mathbf{X} \\boldsymbol{\\theta} - \\mathbf{y} \\|^2\n",
    "$$\n",
    "\n",
    "Which can be written as:\n",
    "\n",
    "$$\n",
    "J(\\boldsymbol{\\theta}) = (\\mathbf{X} \\boldsymbol{\\theta} - \\mathbf{y})^T (\\mathbf{X} \\boldsymbol{\\theta} - \\mathbf{y})\n",
    "$$\n",
    "\n",
    "---\n",
    "\n",
    "### Take the Gradient:\n",
    "\n",
    "Differentiate with respect to \\( \\boldsymbol{\\theta} \\):\n",
    "\n",
    "$$\n",
    "\\nabla_{\\boldsymbol{\\theta}} J = 2 \\mathbf{X}^T (\\mathbf{X} \\boldsymbol{\\theta} - \\mathbf{y})\n",
    "$$\n",
    "\n",
    "---\n",
    "\n",
    "### Set the Gradient to Zero:\n",
    "\n",
    "To minimize the cost:\n",
    "\n",
    "$$\n",
    "\\mathbf{X}^T (\\mathbf{X} \\boldsymbol{\\theta} - \\mathbf{y}) = 0\n",
    "$$\n",
    "\n",
    "Expanding:\n",
    "\n",
    "$$\n",
    "\\mathbf{X}^T \\mathbf{X} \\boldsymbol{\\theta} = \\mathbf{X}^T \\mathbf{y}\n",
    "$$\n",
    "\n",
    "---\n",
    "\n",
    "### Solve for \\( \\boldsymbol{\\theta} \\):\n",
    "\n",
    "Multiply both sides by the inverse of \\( \\mathbf{X}^T \\mathbf{X} \\):\n",
    "\n",
    "$$\n",
    "\\boldsymbol{\\theta} = (\\mathbf{X}^T \\mathbf{X})^{-1} \\mathbf{X}^T \\mathbf{y}\n",
    "$$\n",
    "\n",
    "---\n",
    "\n",
    "### Final Formula:\n",
    "\n",
    "This is the **Normal Equation**:\n",
    "\n",
    "$$\n",
    "\\boxed{\n",
    "\\boldsymbol{\\theta} = (\\mathbf{X}^T \\mathbf{X})^{-1} \\mathbf{X}^T \\mathbf{y}\n",
    "}\n",
    "$$"
   ]
  },
  {
   "cell_type": "code",
   "execution_count": 15,
   "id": "b176f8d8-bdd3-426f-9721-c2d4010ef367",
   "metadata": {},
   "outputs": [],
   "source": [
    "import numpy as np\n",
    "\n",
    "class LinearRegression:\n",
    "    def __init__(self):\n",
    "        self.W = None\n",
    "\n",
    "    def fit(self, X, y):\n",
    "        '''\n",
    "        X: shape (n_samples, n_features)\n",
    "        y: shape (n_samples,)\n",
    "        '''\n",
    "        n = X.shape[0]\n",
    "\n",
    "        # Add bias term (intercept): prepend column of ones\n",
    "        X_bias = np.hstack([np.ones((n, 1)), X])\n",
    "\n",
    "        # Compute weights using closed-form formula\n",
    "        self.W = np.linalg.inv(X_bias.T @ X_bias) @ X_bias.T @ y\n",
    "\n",
    "    def predict(self, X):\n",
    "        n = X.shape[0]\n",
    "\n",
    "        # Add bias term to input before predicting\n",
    "        X_bias = np.hstack([np.ones((n, 1)), X])\n",
    "        return X_bias @ self.W"
   ]
  },
  {
   "cell_type": "code",
   "execution_count": 16,
   "id": "f038fcf0-709f-4349-bed1-a79b799d112a",
   "metadata": {},
   "outputs": [
    {
     "name": "stdout",
     "output_type": "stream",
     "text": [
      "Weights: [3. 2.]\n",
      "Predictions: [ 5.  7.  9. 11.]\n"
     ]
    }
   ],
   "source": [
    "# Generate simple linear data: y = 2x + 3\n",
    "X = np.array([[1], [2], [3], [4]])\n",
    "y = np.array([5, 7, 9, 11])\n",
    "\n",
    "model = LinearRegression()\n",
    "model.fit(X, y)\n",
    "\n",
    "print(\"Weights:\", model.W)  # Should be close to [3, 2]\n",
    "\n",
    "predictions = model.predict(X)\n",
    "print(\"Predictions:\", predictions)"
   ]
  },
  {
   "cell_type": "markdown",
   "id": "8a695f77-0cdc-4d28-999f-6a35b31b8732",
   "metadata": {},
   "source": [
    "# Notes\n",
    "\n",
    "1. This only works if \n",
    "$$\n",
    "\\boldsymbol(\\mathbf{X}^T \\mathbf{X})\n",
    "$$\n",
    "\n",
    "is invertible (full rank). Otherwise, use **Moore-Penrose pseudo-inverse**:\n",
    "\n",
    "2. The advantage of this closed-form solution is it's exact and fast for small datasets.\n",
    "The disadvantage is it becomes slow and unstable for very large feature matrices due to matrix inversion (O^n3)"
   ]
  },
  {
   "cell_type": "markdown",
   "id": "a9fbc50b-b5b7-43a6-bb13-7b0b52f80a32",
   "metadata": {},
   "source": [
    "# Improvement: with Gradient Descent"
   ]
  },
  {
   "cell_type": "markdown",
   "id": "2f397fcc-97f6-4e3e-b5f9-9871b332140d",
   "metadata": {},
   "source": [
    "## Univariate Linear Regression with Gradient Descent (from scratch)\n",
    "\n",
    "### Model:\n",
    "\n",
    "We want to find \\( w \\) and \\( b \\) such that:\n",
    "\n",
    "$$\n",
    "\\hat{y} = w x + b\n",
    "$$\n",
    "\n",
    "where\n",
    "- \\( x \\) is the input feature,\n",
    "- \\( \\hat{y} \\) is the predicted output,\n",
    "- \\( w \\) is the slope,\n",
    "- \\( b \\) is the intercept.\n",
    "\n",
    "---\n",
    "\n",
    "### Cost Function:\n",
    "\n",
    "We minimize the Mean Squared Error (MSE):\n",
    "\n",
    "$$\n",
    "J(w, b) = \\frac{1}{n} \\sum_{i=1}^n (w x_i + b - y_i)^2\n",
    "$$\n",
    "\n",
    "where \\( n \\) is the number of samples, and \\( y_i \\) is the true value.\n",
    "\n",
    "---\n",
    "\n",
    "### Gradients:\n",
    "\n",
    "The partial derivatives of \\( J \\) with respect to \\( w \\) and \\( b \\) are:\n",
    "\n",
    "$$\n",
    "\\frac{\\partial J}{\\partial w} = \\frac{2}{n} \\sum_{i=1}^n x_i (w x_i + b - y_i)\n",
    "$$\n",
    "\n",
    "$$\n",
    "\\frac{\\partial J}{\\partial b} = \\frac{2}{n} \\sum_{i=1}^n (w x_i + b - y_i)\n",
    "$$\n",
    "\n",
    "---\n",
    "\n",
    "### Gradient Descent Update Rule:\n",
    "\n",
    "At each iteration, update parameters as:\n",
    "\n",
    "$$\n",
    "w := w - \\alpha \\frac{\\partial J}{\\partial w}\n",
    "$$\n",
    "\n",
    "$$\n",
    "b := b - \\alpha \\frac{\\partial J}{\\partial b}\n",
    "$$\n",
    "\n",
    "where \\( \\alpha \\) is the learning rate.\n",
    "\n",
    "---\n",
    "\n",
    "### Summary:\n",
    "\n",
    "Repeat updates until convergence or for a fixed number of iterations:\n",
    "\n",
    "$$\n",
    "\\begin{cases}\n",
    "w \\leftarrow w - \\alpha \\frac{2}{n} \\sum_{i=1}^n x_i (w x_i + b - y_i) \\\\\n",
    "b \\leftarrow b - \\alpha \\frac{2}{n} \\sum_{i=1}^n (w x_i + b - y_i)\n",
    "\\end{cases}\n",
    "$$"
   ]
  },
  {
   "cell_type": "code",
   "execution_count": 50,
   "id": "5155925a-016b-4de0-be32-03df1606678d",
   "metadata": {},
   "outputs": [],
   "source": [
    "import numpy as np\n",
    "\n",
    "class LinearRegressionGD:\n",
    "    def __init__(self, learning_rate=0.01, n_iters=1000):\n",
    "        self.learning_rate = learning_rate\n",
    "        self.n_iters = n_iters\n",
    "        self.slope = 0\n",
    "        self.intercept = 0\n",
    "        # optional- cost tracking\n",
    "        self.losses = []\n",
    "\n",
    "    def fit(self, X, y):\n",
    "        n = len(X)\n",
    "        X = np.array(X)\n",
    "        y = np.array(y)\n",
    "\n",
    "        for _ in range(self.n_iters):\n",
    "            y_pred = X * self.slope + self.intercept\n",
    "            error = y_pred - y\n",
    "\n",
    "            # Compute gradients\n",
    "            dw = (2 / n) * np.sum(X *error)\n",
    "            db = (2 / n) * np.sum(error)\n",
    "\n",
    "            # Update parameters\n",
    "            self.slope -= self.learning_rate * dw\n",
    "            self.intercept -= self.learning_rate * db\n",
    "\n",
    "            # optional - cost tracking\n",
    "            cost = np.mean((y_pred - y) ** 2)\n",
    "            self.losses.append(cost)\n",
    "\n",
    "    def predict(self, X):\n",
    "        return [self.slope * x + self.intercept for x in X]"
   ]
  },
  {
   "cell_type": "code",
   "execution_count": 51,
   "id": "250f6fcb-d3e9-4615-96b8-d5f66b98bd31",
   "metadata": {},
   "outputs": [
    {
     "name": "stdout",
     "output_type": "stream",
     "text": [
      "Slope: 2.003880582342283\n",
      "Intercept: 0.9859898664422495\n",
      "Predictions: [13.009273360495946, 15.01315394283823]\n"
     ]
    }
   ],
   "source": [
    "X = [1, 2, 3, 4, 5]\n",
    "y = [3, 5, 7, 9, 11]  # Linear: y = 2x + 1\n",
    "\n",
    "model = LinearRegressionGD(learning_rate=0.01, n_iters=1000)\n",
    "model.fit(X, y)\n",
    "\n",
    "print(\"Slope:\", model.slope)\n",
    "print(\"Intercept:\", model.intercept)\n",
    "print(\"Predictions:\", model.predict([6, 7]))"
   ]
  },
  {
   "cell_type": "code",
   "execution_count": 52,
   "id": "8ab0f29a-4655-4a6e-b988-7f018ce47d78",
   "metadata": {},
   "outputs": [],
   "source": [
    "# the above code fails when input is multi-dimensional matrix"
   ]
  },
  {
   "cell_type": "code",
   "execution_count": 53,
   "id": "a2a20cf1-31de-40a8-afa6-aa3879e00f4d",
   "metadata": {},
   "outputs": [
    {
     "ename": "ValueError",
     "evalue": "operands could not be broadcast together with shapes (5,2) (5,) ",
     "output_type": "error",
     "traceback": [
      "\u001b[0;31m---------------------------------------------------------------------------\u001b[0m",
      "\u001b[0;31mValueError\u001b[0m                                Traceback (most recent call last)",
      "Cell \u001b[0;32mIn[53], line 5\u001b[0m\n\u001b[1;32m      2\u001b[0m y \u001b[38;5;241m=\u001b[39m np\u001b[38;5;241m.\u001b[39marray([\u001b[38;5;241m3\u001b[39m, \u001b[38;5;241m5\u001b[39m, \u001b[38;5;241m9\u001b[39m, \u001b[38;5;241m8\u001b[39m, \u001b[38;5;241m12\u001b[39m])\n\u001b[1;32m      4\u001b[0m model \u001b[38;5;241m=\u001b[39m LinearRegressionGD(learning_rate\u001b[38;5;241m=\u001b[39m\u001b[38;5;241m0.01\u001b[39m, n_iters\u001b[38;5;241m=\u001b[39m\u001b[38;5;241m10\u001b[39m)\n\u001b[0;32m----> 5\u001b[0m \u001b[43mmodel\u001b[49m\u001b[38;5;241;43m.\u001b[39;49m\u001b[43mfit\u001b[49m\u001b[43m(\u001b[49m\u001b[43mX\u001b[49m\u001b[43m,\u001b[49m\u001b[43m \u001b[49m\u001b[43my\u001b[49m\u001b[43m)\u001b[49m\n\u001b[1;32m      7\u001b[0m \u001b[38;5;28mprint\u001b[39m(\u001b[38;5;124m\"\u001b[39m\u001b[38;5;124mSlope:\u001b[39m\u001b[38;5;124m\"\u001b[39m, model\u001b[38;5;241m.\u001b[39mslope)\n\u001b[1;32m      8\u001b[0m \u001b[38;5;28mprint\u001b[39m(\u001b[38;5;124m\"\u001b[39m\u001b[38;5;124mIntercept:\u001b[39m\u001b[38;5;124m\"\u001b[39m, model\u001b[38;5;241m.\u001b[39mintercept)\n",
      "Cell \u001b[0;32mIn[50], line 19\u001b[0m, in \u001b[0;36mLinearRegressionGD.fit\u001b[0;34m(self, X, y)\u001b[0m\n\u001b[1;32m     17\u001b[0m \u001b[38;5;28;01mfor\u001b[39;00m _ \u001b[38;5;129;01min\u001b[39;00m \u001b[38;5;28mrange\u001b[39m(\u001b[38;5;28mself\u001b[39m\u001b[38;5;241m.\u001b[39mn_iters):\n\u001b[1;32m     18\u001b[0m     y_pred \u001b[38;5;241m=\u001b[39m X \u001b[38;5;241m*\u001b[39m \u001b[38;5;28mself\u001b[39m\u001b[38;5;241m.\u001b[39mslope \u001b[38;5;241m+\u001b[39m \u001b[38;5;28mself\u001b[39m\u001b[38;5;241m.\u001b[39mintercept\n\u001b[0;32m---> 19\u001b[0m     error \u001b[38;5;241m=\u001b[39m \u001b[43my_pred\u001b[49m\u001b[43m \u001b[49m\u001b[38;5;241;43m-\u001b[39;49m\u001b[43m \u001b[49m\u001b[43my\u001b[49m\n\u001b[1;32m     21\u001b[0m     \u001b[38;5;66;03m# Compute gradients\u001b[39;00m\n\u001b[1;32m     22\u001b[0m     dw \u001b[38;5;241m=\u001b[39m (\u001b[38;5;241m2\u001b[39m \u001b[38;5;241m/\u001b[39m n) \u001b[38;5;241m*\u001b[39m np\u001b[38;5;241m.\u001b[39msum(X \u001b[38;5;241m*\u001b[39merror)\n",
      "\u001b[0;31mValueError\u001b[0m: operands could not be broadcast together with shapes (5,2) (5,) "
     ]
    }
   ],
   "source": [
    "X = np.array([[1, 2], [2, 3], [4, 5], [3, 6], [5, 8]])\n",
    "y = np.array([3, 5, 9, 8, 12])\n",
    "\n",
    "model = LinearRegressionGD(learning_rate=0.01, n_iters=10)\n",
    "model.fit(X, y)\n",
    "\n",
    "print(\"Slope:\", model.slope)\n",
    "print(\"Intercept:\", model.intercept)\n",
    "print(\"Predictions:\", model.predict([6, 7]))"
   ]
  },
  {
   "cell_type": "code",
   "execution_count": 54,
   "id": "38685f65-9404-4e11-af21-90afe80df00c",
   "metadata": {},
   "outputs": [],
   "source": [
    "# Fix: use proper matrix \n",
    "import numpy as np\n",
    "\n",
    "class LinearRegressionGD:\n",
    "    def __init__(self, learning_rate=0.01, n_iters=1000):\n",
    "        self.learning_rate = learning_rate\n",
    "        self.n_iters = n_iters\n",
    "        n_samples, n_features = X.shape\n",
    "        self.slope = np.zeros(n_features)\n",
    "        self.intercept = 0\n",
    "        # optional- cost tracking\n",
    "        self.losses = []\n",
    "\n",
    "    def fit(self, X, y):\n",
    "        n = len(X)\n",
    "        X = np.array(X)\n",
    "        y = np.array(y)\n",
    "\n",
    "        for _ in range(self.n_iters):\n",
    "            y_pred = np.dot(X, self.slope) + self.intercept\n",
    "            error = y_pred - y\n",
    "\n",
    "            # Compute gradients\n",
    "            dw = (2 / n) * np.sum(X.T @ error)\n",
    "            db = (2 / n) * np.sum(error)\n",
    "\n",
    "            # Update parameters\n",
    "            self.slope -= self.learning_rate * dw\n",
    "            self.intercept -= self.learning_rate * db\n",
    "\n",
    "            # optional - cost tracking\n",
    "            cost = np.mean((y_pred - y) ** 2)\n",
    "            self.losses.append(cost)\n",
    "\n",
    "    def predict(self, X):\n",
    "        return [self.slope * x + self.intercept for x in X]"
   ]
  },
  {
   "cell_type": "code",
   "execution_count": 55,
   "id": "992462aa-d2ec-4d00-a0d9-9cd90af9ce30",
   "metadata": {},
   "outputs": [
    {
     "name": "stdout",
     "output_type": "stream",
     "text": [
      "Slope: [0.92749091 0.92749091]\n",
      "Intercept: 0.109881080881638\n",
      "Predictions: [array([5.67482652, 5.67482652]), array([6.60231743, 6.60231743])]\n"
     ]
    }
   ],
   "source": [
    "X = np.array([[1, 2], [2, 3], [4, 5], [3, 6], [5, 8]])\n",
    "y = np.array([3, 5, 9, 8, 12])\n",
    "\n",
    "model = LinearRegressionGD(learning_rate=0.01, n_iters=10)\n",
    "model.fit(X, y)\n",
    "\n",
    "print(\"Slope:\", model.slope)\n",
    "print(\"Intercept:\", model.intercept)\n",
    "print(\"Predictions:\", model.predict([6, 7]))"
   ]
  },
  {
   "cell_type": "markdown",
   "id": "f6c0c701-c0e6-44f6-9888-896328ede5d2",
   "metadata": {},
   "source": [
    "## 🧾 Optional: Add Cost Tracking"
   ]
  },
  {
   "cell_type": "code",
   "execution_count": 56,
   "id": "4c692d69-b482-49b8-be89-ae05836d8e39",
   "metadata": {},
   "outputs": [
    {
     "data": {
      "text/plain": [
       "Text(0.5, 1.0, 'Loss Curve')"
      ]
     },
     "execution_count": 56,
     "metadata": {},
     "output_type": "execute_result"
    },
    {
     "data": {
      "image/png": "[encoded data removed]",
      "text/plain": [
       "<Figure size 640x480 with 1 Axes>"
      ]
     },
     "metadata": {},
     "output_type": "display_data"
    }
   ],
   "source": [
    "import matplotlib.pyplot as plt\n",
    "plt.plot(model.losses)\n",
    "plt.xlabel(\"Iterations\")\n",
    "plt.ylabel(\"MSE Loss\")\n",
    "plt.title(\"Loss Curve\")"
   ]
  },
  {
   "cell_type": "markdown",
   "id": "8bc324d7-40b5-417f-b785-ea4baad4a62b",
   "metadata": {},
   "source": [
    "# Code using sklearn module"
   ]
  },
  {
   "cell_type": "code",
   "execution_count": 25,
   "id": "bde68249-9e58-4413-b61b-3cbb4bdb9537",
   "metadata": {},
   "outputs": [
    {
     "name": "stdout",
     "output_type": "stream",
     "text": [
      "OLS coefficients: [1.5 0.5]\n",
      "OLS intercept: 0.4999999999999982\n",
      "Ridge coefficients: [1.06382979 0.73556231]\n",
      "Ridge intercept: 0.6778115501519766\n",
      "Lasso coefficients: [1.36324994 0.56203951]\n",
      "Lasso intercept: 0.6124605294405683\n"
     ]
    }
   ],
   "source": [
    "import numpy as np\n",
    "from sklearn.linear_model import LinearRegression, Ridge, Lasso\n",
    "\n",
    "# Sample data\n",
    "X = np.array([[1, 2], [2, 3], [4, 5], [3, 6], [5, 8]])\n",
    "y = np.array([3, 5, 9, 8, 12])\n",
    "\n",
    "# 1. OLS Regression (Ordinary Least Squares)\n",
    "ols = LinearRegression()\n",
    "ols.fit(X, y)\n",
    "print(\"OLS coefficients:\", ols.coef_)\n",
    "print(\"OLS intercept:\", ols.intercept_)\n",
    "\n",
    "# 2. Ridge Regression (L2 regularization)\n",
    "ridge = Ridge(alpha=1.0)  # alpha is lambda\n",
    "ridge.fit(X, y)\n",
    "print(\"Ridge coefficients:\", ridge.coef_)\n",
    "print(\"Ridge intercept:\", ridge.intercept_)\n",
    "\n",
    "# 3. Lasso Regression (L1 regularization)\n",
    "lasso = Lasso(alpha=0.1)\n",
    "lasso.fit(X, y)\n",
    "print(\"Lasso coefficients:\", lasso.coef_)\n",
    "print(\"Lasso intercept:\", lasso.intercept_)"
   ]
  },
  {
   "cell_type": "code",
   "execution_count": null,
   "id": "e573c94c-97bf-4e79-a284-290ee082b608",
   "metadata": {},
   "outputs": [],
   "source": []
  }
 ],
 "metadata": {
  "kernelspec": {
   "display_name": "Python 3 (ipykernel)",
   "language": "python",
   "name": "python3"
  },
  "language_info": {
   "codemirror_mode": {
    "name": "ipython",
    "version": 3
   },
   "file_extension": ".py",
   "mimetype": "text/x-python",
   "name": "python",
   "nbconvert_exporter": "python",
   "pygments_lexer": "ipython3",
   "version": "3.9.6"
  }
 },
 "nbformat": 4,
 "nbformat_minor": 5
}
